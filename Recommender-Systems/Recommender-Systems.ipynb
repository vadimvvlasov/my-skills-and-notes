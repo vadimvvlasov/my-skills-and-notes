{
 "cells": [
  {
   "attachments": {},
   "cell_type": "markdown",
   "metadata": {},
   "source": [
    "# Predicting Ratings\n",
    "## Problem formulation\n",
    "есть пользователи $j$ и продукты $i$. \n",
    "\n",
    "У каждого продукта есть набор признаков $x^{(j)}$, то есть каждый продукт представлен вектором.\n",
    "\n",
    "Пользователи оценили продукты $r_{ij}$, причём часть продуктов без оценки\n",
    "\n",
    "Цель: посмотреть на покупателей и предсказать как бы они оценили продукты, которые они ещё не оценивали\n",
    "## Content Based Recommendations / рекомендации на основе содержания\n",
    "У каждого продукт есть признаки (вектор признаков), на основе которых мы делаем прогноз.\n",
    "\n",
    "У нас есть признаки продукта, мы обучаем вектор параметров пользоватлей\n",
    " <img src=\"img/2.png\" width=\"500\">\n",
    "Предсказание рейтингов каждого пользователя как отдельную проблему линейной регрессии.\n",
    " $$t_{i,j}=(\\theta^{(j)})^T\\cdot x^{(j)}$$\n",
    " \n",
    " где $\\theta^{(j)}$ - параметры пользователя\n",
    " \n",
    " $ x^{(j)}$ - парметры продукта\n",
    " <img src=\"img/3.png\" width=\"500\">\n",
    " \n",
    " <img src=\"img/4.png\" width=\"500\">\n",
    " <img src=\"img/5.png\" width=\"500\">\n"
   ]
  },
  {
   "cell_type": "markdown",
   "metadata": {},
   "source": [
    "# Collaborative Filtering\n",
    "### Basics\n",
    "Не для всех продуктов есть признаки, поэтому мы не можем использовать `Content Based Recommendations`. В `Collaborative Filtering` мы не знаем признаки продуктов, как по этим признакам их оценили пользователи.\n",
    "\n",
    "Здесь мы делаем наоборот. У нас есть признаки продукта, мы обучаем вектор параметров пользоватлей\n",
    "\n",
    "Проблема `яйца и курицы`\n",
    " <img src=\"img/2-2.png\" width=\"500\">\n",
    "И что мы делаем - рандомно инициализируем параметры (веса) продукта $\\theta$. Далее итерационно обучаем $\\theta => x => \\theta => x ...$\n",
    "### Filtering Algorithm\n",
    "мы можем обучать веса $\\theta, x$ совместно, единовремено\n",
    "<img src=\"img/2-3.png\" width=\"500\">\n",
    "<img src=\"img/2-4.png\" width=\"500\">\n"
   ]
  },
  {
   "cell_type": "markdown",
   "metadata": {},
   "source": [
    "### Low Rank Matrix Factorization\n",
    "<img src=\"img/2-5.png\" width=\"500\">\n",
    "<img src=\"img/2-6.png\" width=\"500\">"
   ]
  },
  {
   "cell_type": "markdown",
   "metadata": {},
   "source": [
    "### Mean Normalization\n",
    "<img src=\"img/3-1.png\" width=\"500\">\n",
    "<img src=\"img/3-2.png\" width=\"500\">"
   ]
  },
  {
   "cell_type": "code",
   "execution_count": null,
   "metadata": {},
   "outputs": [],
   "source": []
  }
 ],
 "metadata": {
  "kernelspec": {
   "display_name": "Python 3",
   "language": "python",
   "name": "python3"
  },
  "language_info": {
   "codemirror_mode": {
    "name": "ipython",
    "version": 3
   },
   "file_extension": ".py",
   "mimetype": "text/x-python",
   "name": "python",
   "nbconvert_exporter": "python",
   "pygments_lexer": "ipython3",
   "version": "3.8.1"
  }
 },
 "nbformat": 4,
 "nbformat_minor": 4
}
